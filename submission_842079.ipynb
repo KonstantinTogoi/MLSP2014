{
 "metadata": {
  "name": "",
  "signature": "sha256:c7f6ea2e054cba39fb1ef90119e0e698c5e67d1ed199827d0100a543c40a851e"
 },
 "nbformat": 3,
 "nbformat_minor": 0,
 "worksheets": [
  {
   "cells": [
    {
     "cell_type": "heading",
     "level": 3,
     "metadata": {},
     "source": [
      "Loading data"
     ]
    },
    {
     "cell_type": "code",
     "collapsed": false,
     "input": [
      "import numpy as np"
     ],
     "language": "python",
     "metadata": {},
     "outputs": [],
     "prompt_number": 1
    },
    {
     "cell_type": "code",
     "collapsed": false,
     "input": [
      "def load_data(filename, dtype=np.float64, usecols=list([0])):\n",
      "    return np.loadtxt(open(filename, 'rb'), delimiter=',', dtype=dtype, skiprows=1, usecols=usecols)"
     ],
     "language": "python",
     "metadata": {},
     "outputs": [],
     "prompt_number": 2
    },
    {
     "cell_type": "code",
     "collapsed": false,
     "input": [
      "train_ids = load_data('./Train/train_labels.csv', np.int64, [0])\n",
      "train_labels = load_data('./Train/train_labels.csv', np.int64, [1])\n",
      "train_FNC = load_data('./Train/train_FNC.csv', np.float64, range(1,379))\n",
      "train_SBM = load_data('./Train/train_SBM.csv', np.float64, range(1,33))"
     ],
     "language": "python",
     "metadata": {},
     "outputs": [],
     "prompt_number": 3
    },
    {
     "cell_type": "code",
     "collapsed": false,
     "input": [
      "train_FNC.shape"
     ],
     "language": "python",
     "metadata": {},
     "outputs": [
      {
       "metadata": {},
       "output_type": "pyout",
       "prompt_number": 4,
       "text": [
        "(86, 378)"
       ]
      }
     ],
     "prompt_number": 4
    },
    {
     "cell_type": "code",
     "collapsed": false,
     "input": [
      "train_SBM.shape"
     ],
     "language": "python",
     "metadata": {},
     "outputs": [
      {
       "metadata": {},
       "output_type": "pyout",
       "prompt_number": 5,
       "text": [
        "(86, 32)"
       ]
      }
     ],
     "prompt_number": 5
    },
    {
     "cell_type": "heading",
     "level": 3,
     "metadata": {},
     "source": [
      "Feature selection"
     ]
    },
    {
     "cell_type": "code",
     "collapsed": false,
     "input": [
      "from sklearn.feature_selection import SelectKBest, f_classif"
     ],
     "language": "python",
     "metadata": {},
     "outputs": [],
     "prompt_number": 6
    },
    {
     "cell_type": "code",
     "collapsed": false,
     "input": [
      "selector_FNC = SelectKBest(f_classif)\n",
      "selector_SBM = SelectKBest(f_classif)\n",
      "selector_FNC.fit(train_FNC, train_labels)\n",
      "selector_SBM.fit(train_SBM, train_labels)"
     ],
     "language": "python",
     "metadata": {},
     "outputs": [
      {
       "metadata": {},
       "output_type": "pyout",
       "prompt_number": 8,
       "text": [
        "SelectKBest(k=10, score_func=<function f_classif at 0x04731570>)"
       ]
      }
     ],
     "prompt_number": 8
    },
    {
     "cell_type": "markdown",
     "metadata": {},
     "source": [
      "Make plot"
     ]
    },
    {
     "cell_type": "code",
     "collapsed": false,
     "input": [
      "indices_FNC = np.arange(train_FNC.shape[-1])\n",
      "indices_SBM = np.arange(train_SBM.shape[-1])\n",
      "\n",
      "scores_FNC = -np.log10(selector_FNC.pvalues_)\n",
      "scores_SBM = -np.log10(selector_SBM.pvalues_)\n",
      "\n",
      "scores_FNC /= scores_FNC.max()\n",
      "scores_SBM /= scores_SBM.max()"
     ],
     "language": "python",
     "metadata": {},
     "outputs": [],
     "prompt_number": 9
    },
    {
     "cell_type": "code",
     "collapsed": false,
     "input": [
      "%matplotlib inline\n",
      "import matplotlib.pyplot as plt"
     ],
     "language": "python",
     "metadata": {},
     "outputs": [],
     "prompt_number": 10
    },
    {
     "cell_type": "code",
     "collapsed": false,
     "input": [
      "fig = plt.figure(figsize=(18,6))\n",
      "fig_FNC = fig.add_subplot(121)\n",
      "fig_SBM = fig.add_subplot(122)\n",
      "\n",
      "fig_FNC.plot(indices_FNC, scores_FNC, 'r^')\n",
      "fig_FNC.vlines(indices_FNC, [0], scores_FNC)\n",
      "fig_FNC.set_xlabel('feature number')\n",
      "fig_FNC.set_title('Univariate FNC feature scores')\n",
      "\n",
      "fig_SBM.plot(indices_SBM, scores_SBM, 'b^')\n",
      "fig_SBM.vlines(indices_SBM, [0], scores_SBM)\n",
      "fig_SBM.set_xlabel('feature number')\n",
      "fig_SBM.set_title('Univariate SBM feature scores')\n",
      "\n",
      "plt.show()"
     ],
     "language": "python",
     "metadata": {},
     "outputs": [
      {
       "metadata": {},
       "output_type": "display_data",
       "png": "[encoded data removed]",
       "text": [
        "<matplotlib.figure.Figure at 0x4fb1270>"
       ]
      }
     ],
     "prompt_number": 11
    },
    {
     "cell_type": "markdown",
     "metadata": {},
     "source": [
      "For this submission I selected 60 FNC features and 8 SBM features."
     ]
    },
    {
     "cell_type": "code",
     "collapsed": false,
     "input": [
      "selector_FNC.k = 60\n",
      "selector_SBM.k = 8"
     ],
     "language": "python",
     "metadata": {},
     "outputs": [],
     "prompt_number": 12
    },
    {
     "cell_type": "code",
     "collapsed": false,
     "input": [
      "features_FNC = np.array(open('./Train/train_FNC.csv', 'rb').readline().split(\",\")[1:])\n",
      "features_SBM = np.array(open('./Train/train_SBM.csv', 'rb').readline().split(\",\")[1:])\n",
      "top_60_features_FNC= features_FNC[np.argsort(scores_FNC)][range(len(scores_FNC)-60, len(scores_FNC))]\n",
      "top_8_features_SBM = features_SBM[np.argsort(scores_SBM)][range(len(scores_SBM)- 8, len(scores_SBM))]"
     ],
     "language": "python",
     "metadata": {},
     "outputs": [],
     "prompt_number": 13
    },
    {
     "cell_type": "heading",
     "level": 3,
     "metadata": {},
     "source": [
      "Training classifier"
     ]
    },
    {
     "cell_type": "code",
     "collapsed": false,
     "input": [
      "from sklearn.neighbors import KNeighborsClassifier\n",
      "kNN_clf = KNeighborsClassifier(n_neighbors=35)"
     ],
     "language": "python",
     "metadata": {},
     "outputs": [],
     "prompt_number": 14
    },
    {
     "cell_type": "code",
     "collapsed": false,
     "input": [
      "X_train = np.hstack((\n",
      "selector_FNC.transform(train_FNC),\n",
      "selector_SBM.transform(train_SBM)\n",
      "))\n",
      "y_train = train_labels"
     ],
     "language": "python",
     "metadata": {},
     "outputs": [],
     "prompt_number": 15
    },
    {
     "cell_type": "code",
     "collapsed": false,
     "input": [
      "kNN_clf.fit(X_train, y_train)"
     ],
     "language": "python",
     "metadata": {},
     "outputs": [
      {
       "metadata": {},
       "output_type": "pyout",
       "prompt_number": 16,
       "text": [
        "KNeighborsClassifier(algorithm='auto', leaf_size=30, metric='minkowski',\n",
        "           n_neighbors=35, p=2, weights='uniform')"
       ]
      }
     ],
     "prompt_number": 16
    },
    {
     "cell_type": "code",
     "collapsed": false,
     "input": [
      "print(kNN_clf.score(X_train, y_train))"
     ],
     "language": "python",
     "metadata": {},
     "outputs": [
      {
       "output_type": "stream",
       "stream": "stdout",
       "text": [
        "0.872093023256\n"
       ]
      }
     ],
     "prompt_number": 17
    }
   ],
   "metadata": {}
  }
 ]
}